{
 "cells": [
  {
   "cell_type": "markdown",
   "id": "d423939e",
   "metadata": {},
   "source": [
    "#### Цю програму зробив мені CHATGPT, вона виводить привітання користувачу з іменем, збереженим у змінній `name`.\n"
   ]
  },
  {
   "cell_type": "code",
   "execution_count": 14,
   "id": "32a124d2",
   "metadata": {},
   "outputs": [
    {
     "name": "stdout",
     "output_type": "stream",
     "text": [
      "Hello, Victor! Welcome to programming!\n"
     ]
    }
   ],
   "source": [
    "name = \"Victor\"\n",
    "print(f\"Hello, {name}! Welcome to programming!\")"
   ]
  },
  {
   "cell_type": "markdown",
   "id": "ebfe3190",
   "metadata": {},
   "source": [
    "# Моя перша програма\n",
    "Ця програма виводить повідомлення з іменем користувача, поточною датою та містом."
   ]
  },
  {
   "cell_type": "code",
   "execution_count": 13,
   "id": "d4ca84c6",
   "metadata": {},
   "outputs": [
    {
     "name": "stdout",
     "output_type": "stream",
     "text": [
      "Victor start programming at 2025-09-14 13:19:33.041629. Lviv is the best city!\n"
     ]
    }
   ],
   "source": [
    "from datetime import datetime\n",
    "name = \"Victor\"\n",
    "location = \"Lviv\"\n",
    "\n",
    "print(f\"{name} start programming at {datetime.now()}. {location} is the best city!\")\n"
   ]
  }
 ],
 "metadata": {
  "kernelspec": {
   "display_name": "Python 3",
   "language": "python",
   "name": "python3"
  },
  "language_info": {
   "codemirror_mode": {
    "name": "ipython",
    "version": 3
   },
   "file_extension": ".py",
   "mimetype": "text/x-python",
   "name": "python",
   "nbconvert_exporter": "python",
   "pygments_lexer": "ipython3",
   "version": "3.13.6"
  }
 },
 "nbformat": 4,
 "nbformat_minor": 5
}
